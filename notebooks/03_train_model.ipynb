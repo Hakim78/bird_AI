{
 "cells": [
  {
   "cell_type": "markdown",
   "id": "d919b66f",
   "metadata": {},
   "source": [
    "Part 1 : Imports"
   ]
  },
  {
   "cell_type": "code",
   "execution_count": 1,
   "id": "a88cc8d3",
   "metadata": {},
   "outputs": [],
   "source": [
    "import os\n",
    "import numpy as np\n",
    "import matplotlib.pyplot as plt\n",
    "from sklearn.model_selection import train_test_split\n",
    "from sklearn.preprocessing import LabelEncoder\n",
    "from tensorflow.keras.utils import to_categorical, load_img, img_to_array\n",
    "from tensorflow.keras.models import Sequential\n",
    "from tensorflow.keras.layers import Conv2D, MaxPooling2D, Flatten, Dense, Dropout\n",
    "from tensorflow.keras.callbacks import EarlyStopping\n",
    "from tensorflow.keras.preprocessing.image import ImageDataGenerator"
   ]
  },
  {
   "cell_type": "markdown",
   "id": "1dc17c43",
   "metadata": {},
   "source": [
    "Part 2 : loading data"
   ]
  },
  {
   "cell_type": "code",
   "execution_count": 2,
   "id": "f4e29570",
   "metadata": {},
   "outputs": [
    {
     "name": "stdout",
     "output_type": "stream",
     "text": [
      "Nombre d'images : 3131\n",
      "Taille des images : (128, 128, 3)\n"
     ]
    }
   ],
   "source": [
    "# Dossier contenant les spectrogrammes\n",
    "data_dir = \"../Spectrograms\"\n",
    "img_size = (128, 128)  # Taille standardisée\n",
    "\n",
    "X = []\n",
    "y = []\n",
    "\n",
    "# Lecture des images et des labels\n",
    "for label in os.listdir(data_dir):\n",
    "    label_path = os.path.join(data_dir, label)\n",
    "    if os.path.isdir(label_path):\n",
    "        for file in os.listdir(label_path):\n",
    "            if file.endswith(\".png\"):\n",
    "                img_path = os.path.join(label_path, file)\n",
    "                img = load_img(img_path, target_size=img_size, color_mode=\"rgb\")\n",
    "                img_array = img_to_array(img) / 255.0  # Normalisation\n",
    "                X.append(img_array)\n",
    "                y.append(label)\n",
    "\n",
    "X = np.array(X)\n",
    "y = np.array(y)\n",
    "\n",
    "print(\"Nombre d'images :\", X.shape[0])\n",
    "print(\"Taille des images :\", X.shape[1:])\n"
   ]
  },
  {
   "cell_type": "markdown",
   "id": "a61a0bf0",
   "metadata": {},
   "source": [
    "Partie 3 : Préparation des labels"
   ]
  },
  {
   "cell_type": "code",
   "execution_count": 3,
   "id": "52ffb68d",
   "metadata": {},
   "outputs": [],
   "source": [
    "# encoder les labels \n",
    "le = LabelEncoder()\n",
    "y_encoded = le.fit_transform(y)\n",
    "y_cat = to_categorical(y_encoded)\n",
    "\n",
    "# split train / test  \n",
    "X_train, X_test, y_train, y_test = train_test_split(X, y_cat, test_size=0.2, random_state=42)\n",
    "\n",
    "# get classe older : \n",
    "class_names = le.classes_"
   ]
  },
  {
   "cell_type": "markdown",
   "id": "96490b28",
   "metadata": {},
   "source": [
    "Part 4 : Create CNN model"
   ]
  },
  {
   "cell_type": "code",
   "execution_count": 13,
   "id": "22cc9d36",
   "metadata": {},
   "outputs": [],
   "source": [
    "from tensorflow.keras.models import Sequential\n",
    "from tensorflow.keras.layers import Conv2D, MaxPooling2D, Flatten, Dense, Dropout, BatchNormalization, Input, Activation\n",
    "\n",
    "model = Sequential([\n",
    "    Input(shape=(128, 128, 3)),\n",
    "\n",
    "    Conv2D(32, (3, 3), padding='same'),\n",
    "    BatchNormalization(),\n",
    "    Activation('relu'),\n",
    "    MaxPooling2D(pool_size=(2, 2)),\n",
    "\n",
    "    Conv2D(64, (3, 3), padding='same'),\n",
    "    BatchNormalization(),\n",
    "    Activation('relu'),\n",
    "    MaxPooling2D(pool_size=(2, 2)),\n",
    "\n",
    "    Conv2D(128, (3, 3), padding='same'),\n",
    "    BatchNormalization(),\n",
    "    Activation('relu'),\n",
    "    MaxPooling2D(pool_size=(2, 2)),\n",
    "\n",
    "    Dropout(0.3),\n",
    "\n",
    "    Flatten(),\n",
    "\n",
    "    Dense(256),\n",
    "    BatchNormalization(),\n",
    "    Activation('relu'),\n",
    "    Dropout(0.5),\n",
    "\n",
    "    Dense(len(class_names), activation='softmax')\n",
    "])\n"
   ]
  },
  {
   "cell_type": "markdown",
   "id": "4d1fb477",
   "metadata": {},
   "source": [
    "partie pour tensorboard "
   ]
  },
  {
   "cell_type": "code",
   "execution_count": null,
   "id": "f4640fc7",
   "metadata": {},
   "outputs": [],
   "source": []
  },
  {
   "cell_type": "code",
   "execution_count": 14,
   "id": "deb3b860",
   "metadata": {},
   "outputs": [],
   "source": [
    "# Préparation de TensorBoard\n",
    "from tensorflow.keras.callbacks import TensorBoard\n",
    "import datetime\n",
    "\n",
    "log_dir = \"logs/fit/\"\n",
    "tensorboard_callback = TensorBoard(log_dir=log_dir, histogram_freq=0)"
   ]
  },
  {
   "cell_type": "markdown",
   "id": "944d4c56",
   "metadata": {},
   "source": [
    "Partie 5 : Compilation et entraînement"
   ]
  },
  {
   "cell_type": "code",
   "execution_count": 22,
   "id": "00599e0d",
   "metadata": {},
   "outputs": [
    {
     "name": "stdout",
     "output_type": "stream",
     "text": [
      "Epoch 1/20\n",
      "\u001b[1m79/79\u001b[0m \u001b[32m━━━━━━━━━━━━━━━━━━━━\u001b[0m\u001b[37m\u001b[0m \u001b[1m65s\u001b[0m 768ms/step - accuracy: 0.8070 - loss: 0.5766 - val_accuracy: 0.7783 - val_loss: 0.8718\n",
      "Epoch 2/20\n",
      "\u001b[1m79/79\u001b[0m \u001b[32m━━━━━━━━━━━━━━━━━━━━\u001b[0m\u001b[37m\u001b[0m \u001b[1m56s\u001b[0m 704ms/step - accuracy: 0.8141 - loss: 0.5455 - val_accuracy: 0.8038 - val_loss: 0.7547\n",
      "Epoch 3/20\n",
      "\u001b[1m79/79\u001b[0m \u001b[32m━━━━━━━━━━━━━━━━━━━━\u001b[0m\u001b[37m\u001b[0m \u001b[1m61s\u001b[0m 778ms/step - accuracy: 0.8258 - loss: 0.4980 - val_accuracy: 0.7671 - val_loss: 0.8727\n",
      "Epoch 4/20\n",
      "\u001b[1m79/79\u001b[0m \u001b[32m━━━━━━━━━━━━━━━━━━━━\u001b[0m\u001b[37m\u001b[0m \u001b[1m73s\u001b[0m 924ms/step - accuracy: 0.7986 - loss: 0.5645 - val_accuracy: 0.7879 - val_loss: 0.6683\n",
      "Epoch 5/20\n",
      "\u001b[1m79/79\u001b[0m \u001b[32m━━━━━━━━━━━━━━━━━━━━\u001b[0m\u001b[37m\u001b[0m \u001b[1m55s\u001b[0m 690ms/step - accuracy: 0.8283 - loss: 0.5101 - val_accuracy: 0.7735 - val_loss: 0.7985\n",
      "Epoch 6/20\n",
      "\u001b[1m79/79\u001b[0m \u001b[32m━━━━━━━━━━━━━━━━━━━━\u001b[0m\u001b[37m\u001b[0m \u001b[1m60s\u001b[0m 759ms/step - accuracy: 0.8266 - loss: 0.4867 - val_accuracy: 0.6762 - val_loss: 1.1452\n",
      "Epoch 7/20\n",
      "\u001b[1m79/79\u001b[0m \u001b[32m━━━━━━━━━━━━━━━━━━━━\u001b[0m\u001b[37m\u001b[0m \u001b[1m66s\u001b[0m 836ms/step - accuracy: 0.8192 - loss: 0.5350 - val_accuracy: 0.8214 - val_loss: 0.6286\n",
      "Epoch 8/20\n",
      "\u001b[1m79/79\u001b[0m \u001b[32m━━━━━━━━━━━━━━━━━━━━\u001b[0m\u001b[37m\u001b[0m \u001b[1m62s\u001b[0m 787ms/step - accuracy: 0.8247 - loss: 0.5240 - val_accuracy: 0.7448 - val_loss: 0.8441\n",
      "Epoch 9/20\n",
      "\u001b[1m79/79\u001b[0m \u001b[32m━━━━━━━━━━━━━━━━━━━━\u001b[0m\u001b[37m\u001b[0m \u001b[1m65s\u001b[0m 819ms/step - accuracy: 0.8300 - loss: 0.4814 - val_accuracy: 0.6396 - val_loss: 1.0954\n",
      "Epoch 10/20\n",
      "\u001b[1m79/79\u001b[0m \u001b[32m━━━━━━━━━━━━━━━━━━━━\u001b[0m\u001b[37m\u001b[0m \u001b[1m64s\u001b[0m 808ms/step - accuracy: 0.8280 - loss: 0.5068 - val_accuracy: 0.7911 - val_loss: 0.7150\n",
      "Epoch 11/20\n",
      "\u001b[1m79/79\u001b[0m \u001b[32m━━━━━━━━━━━━━━━━━━━━\u001b[0m\u001b[37m\u001b[0m \u001b[1m70s\u001b[0m 881ms/step - accuracy: 0.8275 - loss: 0.4916 - val_accuracy: 0.8230 - val_loss: 0.7075\n",
      "Epoch 12/20\n",
      "\u001b[1m79/79\u001b[0m \u001b[32m━━━━━━━━━━━━━━━━━━━━\u001b[0m\u001b[37m\u001b[0m \u001b[1m73s\u001b[0m 927ms/step - accuracy: 0.8411 - loss: 0.4735 - val_accuracy: 0.7879 - val_loss: 0.7763\n",
      "Epoch 13/20\n",
      "\u001b[1m79/79\u001b[0m \u001b[32m━━━━━━━━━━━━━━━━━━━━\u001b[0m\u001b[37m\u001b[0m \u001b[1m81s\u001b[0m 910ms/step - accuracy: 0.8335 - loss: 0.4913 - val_accuracy: 0.8022 - val_loss: 0.6380\n",
      "Epoch 14/20\n",
      "\u001b[1m79/79\u001b[0m \u001b[32m━━━━━━━━━━━━━━━━━━━━\u001b[0m\u001b[37m\u001b[0m \u001b[1m66s\u001b[0m 834ms/step - accuracy: 0.8326 - loss: 0.4868 - val_accuracy: 0.8198 - val_loss: 0.6428\n",
      "Epoch 15/20\n",
      "\u001b[1m79/79\u001b[0m \u001b[32m━━━━━━━━━━━━━━━━━━━━\u001b[0m\u001b[37m\u001b[0m \u001b[1m65s\u001b[0m 821ms/step - accuracy: 0.8339 - loss: 0.4929 - val_accuracy: 0.6316 - val_loss: 1.5701\n",
      "Epoch 16/20\n",
      "\u001b[1m79/79\u001b[0m \u001b[32m━━━━━━━━━━━━━━━━━━━━\u001b[0m\u001b[37m\u001b[0m \u001b[1m58s\u001b[0m 737ms/step - accuracy: 0.8383 - loss: 0.4702 - val_accuracy: 0.8182 - val_loss: 0.6711\n",
      "Epoch 17/20\n",
      "\u001b[1m79/79\u001b[0m \u001b[32m━━━━━━━━━━━━━━━━━━━━\u001b[0m\u001b[37m\u001b[0m \u001b[1m59s\u001b[0m 747ms/step - accuracy: 0.8486 - loss: 0.4610 - val_accuracy: 0.8022 - val_loss: 0.8228\n"
     ]
    }
   ],
   "source": [
    "datagen = ImageDataGenerator(\n",
    "    rotation_range=15,\n",
    "    width_shift_range=0.1,\n",
    "    height_shift_range=0.1,\n",
    "    horizontal_flip=True\n",
    ")\n",
    "\n",
    "# application de l'augmentation uniquement sur X_train\n",
    "train_generator = datagen.flow(X_train, y_train, batch_size=32)\n",
    "\n",
    "# compilation du modèle \n",
    "model.compile(optimizer='adam',\n",
    "              loss='categorical_crossentropy',\n",
    "              metrics=['accuracy'])\n",
    "\n",
    "# Callback EarlyStopping\n",
    "early_stop = EarlyStopping(monitor='val_loss', patience=10, restore_best_weights=True)\n",
    "\n",
    "# Entraînement du modèle avec les données augmentées\n",
    "history = model.fit(\n",
    "    train_generator,\n",
    "    epochs=20,\n",
    "    validation_data=(X_test, y_test),\n",
    "    callbacks=[early_stop, tensorboard_callback]\n",
    ")"
   ]
  },
  {
   "cell_type": "markdown",
   "id": "84b53006",
   "metadata": {},
   "source": [
    "Partie 6 : Sauvegarde du modèle"
   ]
  },
  {
   "cell_type": "code",
   "execution_count": 24,
   "id": "d38d5ffe",
   "metadata": {},
   "outputs": [
    {
     "name": "stderr",
     "output_type": "stream",
     "text": [
      "WARNING:absl:You are saving your model as an HDF5 file via `model.save()` or `keras.saving.save_model(model)`. This file format is considered legacy. We recommend using instead the native Keras format, e.g. `model.save('my_model.keras')` or `keras.saving.save_model(model, 'my_model.keras')`. \n"
     ]
    }
   ],
   "source": [
    "# Sauvegarde du modèle\n",
    "model.save(\"../ia_model/saved_model/bird_classifier.h5\")\n",
    "\n",
    "# Sauvegarde des classes\n",
    "with open(\"../ia_model/saved_model/classes.txt\", \"w\") as f:\n",
    "    for name in class_names:\n",
    "        f.write(name + \"\\n\")\n"
   ]
  },
  {
   "cell_type": "markdown",
   "id": "8e914cb3",
   "metadata": {},
   "source": [
    "barre "
   ]
  },
  {
   "cell_type": "code",
   "execution_count": 28,
   "id": "039660e5",
   "metadata": {},
   "outputs": [
    {
     "name": "stdout",
     "output_type": "stream",
     "text": [
      "Collecting seaborn\n",
      "  Using cached seaborn-0.13.2-py3-none-any.whl.metadata (5.4 kB)\n",
      "Requirement already satisfied: numpy!=1.24.0,>=1.20 in c:\\users\\willi\\documents\\ecole_ipssi_mia4\\avril_mai_2025\\tp_groupe\\.conda\\lib\\site-packages (from seaborn) (2.1.3)\n",
      "Requirement already satisfied: pandas>=1.2 in c:\\users\\willi\\documents\\ecole_ipssi_mia4\\avril_mai_2025\\tp_groupe\\.conda\\lib\\site-packages (from seaborn) (2.2.3)\n",
      "Requirement already satisfied: matplotlib!=3.6.1,>=3.4 in c:\\users\\willi\\documents\\ecole_ipssi_mia4\\avril_mai_2025\\tp_groupe\\.conda\\lib\\site-packages (from seaborn) (3.10.1)\n",
      "Requirement already satisfied: contourpy>=1.0.1 in c:\\users\\willi\\documents\\ecole_ipssi_mia4\\avril_mai_2025\\tp_groupe\\.conda\\lib\\site-packages (from matplotlib!=3.6.1,>=3.4->seaborn) (1.3.2)\n",
      "Requirement already satisfied: cycler>=0.10 in c:\\users\\willi\\documents\\ecole_ipssi_mia4\\avril_mai_2025\\tp_groupe\\.conda\\lib\\site-packages (from matplotlib!=3.6.1,>=3.4->seaborn) (0.12.1)\n",
      "Requirement already satisfied: fonttools>=4.22.0 in c:\\users\\willi\\documents\\ecole_ipssi_mia4\\avril_mai_2025\\tp_groupe\\.conda\\lib\\site-packages (from matplotlib!=3.6.1,>=3.4->seaborn) (4.57.0)\n",
      "Requirement already satisfied: kiwisolver>=1.3.1 in c:\\users\\willi\\documents\\ecole_ipssi_mia4\\avril_mai_2025\\tp_groupe\\.conda\\lib\\site-packages (from matplotlib!=3.6.1,>=3.4->seaborn) (1.4.8)\n",
      "Requirement already satisfied: packaging>=20.0 in c:\\users\\willi\\documents\\ecole_ipssi_mia4\\avril_mai_2025\\tp_groupe\\.conda\\lib\\site-packages (from matplotlib!=3.6.1,>=3.4->seaborn) (24.2)\n",
      "Requirement already satisfied: pillow>=8 in c:\\users\\willi\\documents\\ecole_ipssi_mia4\\avril_mai_2025\\tp_groupe\\.conda\\lib\\site-packages (from matplotlib!=3.6.1,>=3.4->seaborn) (11.2.1)\n",
      "Requirement already satisfied: pyparsing>=2.3.1 in c:\\users\\willi\\documents\\ecole_ipssi_mia4\\avril_mai_2025\\tp_groupe\\.conda\\lib\\site-packages (from matplotlib!=3.6.1,>=3.4->seaborn) (3.2.3)\n",
      "Requirement already satisfied: python-dateutil>=2.7 in c:\\users\\willi\\documents\\ecole_ipssi_mia4\\avril_mai_2025\\tp_groupe\\.conda\\lib\\site-packages (from matplotlib!=3.6.1,>=3.4->seaborn) (2.9.0.post0)\n",
      "Requirement already satisfied: pytz>=2020.1 in c:\\users\\willi\\documents\\ecole_ipssi_mia4\\avril_mai_2025\\tp_groupe\\.conda\\lib\\site-packages (from pandas>=1.2->seaborn) (2025.2)\n",
      "Requirement already satisfied: tzdata>=2022.7 in c:\\users\\willi\\documents\\ecole_ipssi_mia4\\avril_mai_2025\\tp_groupe\\.conda\\lib\\site-packages (from pandas>=1.2->seaborn) (2025.2)\n",
      "Requirement already satisfied: six>=1.5 in c:\\users\\willi\\documents\\ecole_ipssi_mia4\\avril_mai_2025\\tp_groupe\\.conda\\lib\\site-packages (from python-dateutil>=2.7->matplotlib!=3.6.1,>=3.4->seaborn) (1.17.0)\n",
      "Using cached seaborn-0.13.2-py3-none-any.whl (294 kB)\n",
      "Installing collected packages: seaborn\n",
      "Successfully installed seaborn-0.13.2\n",
      "Note: you may need to restart the kernel to use updated packages.\n"
     ]
    }
   ],
   "source": [
    "%pip install seaborn\n"
   ]
  },
  {
   "cell_type": "markdown",
   "id": "ff01fced",
   "metadata": {},
   "source": [
    "matrice de confusion"
   ]
  },
  {
   "cell_type": "code",
   "execution_count": 39,
   "id": "e54b1afd",
   "metadata": {},
   "outputs": [
    {
     "data": {
      "image/png": "[encoded data removed]",
      "text/plain": [
       "<Figure size 640x480 with 2 Axes>"
      ]
     },
     "metadata": {},
     "output_type": "display_data"
    }
   ],
   "source": [
    "from sklearn.metrics import confusion_matrix, ConfusionMatrixDisplay\n",
    "import matplotlib.pyplot as plt\n",
    "\n",
    "# y_true : vraies classes\n",
    "# y_pred : classes prédites\n",
    "cm = confusion_matrix(y_true, y_pred)\n",
    "disp = ConfusionMatrixDisplay(confusion_matrix=cm, display_labels=class_names)\n",
    "disp.plot(cmap=\"Blues\", xticks_rotation=45)\n",
    "plt.title(\"Matrice de confusion\")\n",
    "plt.tight_layout()\n",
    "plt.savefig(\"confusion_matrix.png\")\n",
    "plt.show()\n",
    "\n"
   ]
  },
  {
   "cell_type": "code",
   "execution_count": 36,
   "id": "edbec9b6",
   "metadata": {},
   "outputs": [
    {
     "name": "stdout",
     "output_type": "stream",
     "text": [
      "\u001b[1m20/20\u001b[0m \u001b[32m━━━━━━━━━━━━━━━━━━━━\u001b[0m\u001b[37m\u001b[0m \u001b[1m2s\u001b[0m 113ms/step\n"
     ]
    }
   ],
   "source": [
    "# Prédiction sur le jeu de test\n",
    "y_pred_probs = model.predict(X_test)\n",
    "y_pred = np.argmax(y_pred_probs, axis=1)\n",
    "\n",
    "# Vraies étiquettes (désencodées)\n",
    "y_true = np.argmax(y_test, axis=1)\n"
   ]
  }
 ],
 "metadata": {
  "kernelspec": {
   "display_name": "Python 3",
   "language": "python",
   "name": "python3"
  },
  "language_info": {
   "codemirror_mode": {
    "name": "ipython",
    "version": 3
   },
   "file_extension": ".py",
   "mimetype": "text/x-python",
   "name": "python",
   "nbconvert_exporter": "python",
   "pygments_lexer": "ipython3",
   "version": "3.11.11"
  }
 },
 "nbformat": 4,
 "nbformat_minor": 5
}
