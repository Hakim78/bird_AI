{
 "cells": [
  {
   "cell_type": "markdown",
   "id": "59dbec9e",
   "metadata": {},
   "source": [
    "📦 Import des bibliothèques nécessaires"
   ]
  },
  {
   "cell_type": "code",
   "execution_count": null,
   "id": "d76ddd16",
   "metadata": {
    "vscode": {
     "languageId": "plaintext"
    }
   },
   "outputs": [],
   "source": [
    "import os\n",
    "import pandas as pd\n",
    "import librosa\n",
    "import librosa.display\n",
    "import matplotlib.pyplot as plt\n",
    "import numpy as np\n",
    "\n",
    "# Pour écouter les sons dans le notebook\n",
    "from IPython.display import Audio\n"
   ]
  },
  {
   "cell_type": "markdown",
   "id": "9ba58aad",
   "metadata": {},
   "source": [
    "Chargement des métadonnées"
   ]
  },
  {
   "cell_type": "code",
   "execution_count": null,
   "id": "efc2e0c0",
   "metadata": {
    "vscode": {
     "languageId": "plaintext"
    }
   },
   "outputs": [],
   "source": [
    "# chargement du fichier CSV contenant les métadonnées\n",
    "metadata = pd.read_csv(\"../train_metadata_reduced.csv\")\n",
    "\n",
    "# pour afficher les 1er lignes\n",
    "metadata.head()"
   ]
  },
  {
   "cell_type": "markdown",
   "id": "e5fd7298",
   "metadata": {},
   "source": [
    "Sélection et chargement d'un fichier audio"
   ]
  },
  {
   "cell_type": "code",
   "execution_count": null,
   "id": "0c9809c3",
   "metadata": {
    "vscode": {
     "languageId": "plaintext"
    }
   },
   "outputs": [],
   "source": [
    "# select random\n",
    "sample = metadata.sample(1).iloc[0]\n",
    "\n",
    "# get the name of the files and label l'espèce\n",
    "filename = sample[\"filename\"]\n",
    "label = sample[\"primary_label\"]\n",
    "\n",
    "# construction du chemin complet vers le fichier audio\n",
    "audio_path = os.path.join(\"..\", \"bird_audio\", label, filename)\n",
    "\n",
    "print(\"fichier audiio sélectionné :\", audio_path)"
   ]
  },
  {
   "cell_type": "markdown",
   "id": "98e644ba",
   "metadata": {},
   "source": [
    "Lecture et écoute de l'audio python"
   ]
  },
  {
   "cell_type": "code",
   "execution_count": null,
   "id": "8c57c207",
   "metadata": {
    "vscode": {
     "languageId": "plaintext"
    }
   },
   "outputs": [],
   "source": [
    "# 🔊 Chargement du fichier audio avec librosa\n",
    "y, sr = librosa.load(audio_path, sr=None)\n",
    "\n",
    "# 📈 Affichage de l'onde sonore\n",
    "plt.figure(figsize=(12, 3))\n",
    "librosa.display.waveshow(y, sr=sr)\n",
    "plt.title(f\"Forme d'onde - {label}\")\n",
    "plt.xlabel(\"Temps (s)\")\n",
    "plt.ylabel(\"Amplitude\")\n",
    "plt.show()\n",
    "\n",
    "# 🎧 Lecture du son\n",
    "Audio(audio_path)\n"
   ]
  },
  {
   "cell_type": "markdown",
   "id": "63641408",
   "metadata": {},
   "source": [
    " Conversion en mel-spectrogramme"
   ]
  },
  {
   "cell_type": "code",
   "execution_count": null,
   "id": "69198f0d",
   "metadata": {
    "vscode": {
     "languageId": "plaintext"
    }
   },
   "outputs": [],
   "source": [
    "# convert to mel-spectogramme\n",
    "mel_spec = librosa.feature.melspectrogram(y=y, sr=sr, n_mels=128)\n",
    "\n",
    "# 🔁 Conversion en décibels pour affichage plus lisible\n",
    "mel_spec_db = librosa.power_to_db(mel_spec, ref=np.max)"
   ]
  },
  {
   "cell_type": "markdown",
   "id": "2b110d87",
   "metadata": {},
   "source": [
    "Affichage du spectogramme"
   ]
  },
  {
   "cell_type": "code",
   "execution_count": null,
   "id": "9f6ada15",
   "metadata": {
    "vscode": {
     "languageId": "plaintext"
    }
   },
   "outputs": [],
   "source": [
    "# affichage du Mel-spectrogramme\n",
    "plt.figure(figsize=(10, 4))\n",
    "librosa.display.specshow(mel_spec_db, sr=sr, x_axis='time', y_axis='mel', cmap='magma')\n",
    "plt.colorbar(format='%+2.0f dB')\n",
    "plt.title(f\"Mel-Spectrogramme - {label}\")\n",
    "plt.tight_layout()\n",
    "plt.show()\n"
   ]
  },
  {
   "cell_type": "markdown",
   "id": "5c996690",
   "metadata": {},
   "source": [
    "Sauvegarde du spectrogramme comme image .png"
   ]
  },
  {
   "cell_type": "code",
   "execution_count": null,
   "id": "692d56c9",
   "metadata": {
    "vscode": {
     "languageId": "plaintext"
    }
   },
   "outputs": [],
   "source": [
    "# Dossier de sauvegarde\n",
    "output_dir = \"../Spectrograms\"\n",
    "os.makedirs(output_dir, exist_ok=True)\n",
    "\n",
    "#  Nom du fichier image basé sur le nom du fichier audio\n",
    "output_path = os.path.join(output_dir, filename.replace(\".wav\", \".png\"))\n",
    "\n",
    "#  Sauvegarde du spectrogramme en image\n",
    "plt.figure(figsize=(10, 4))\n",
    "librosa.display.specshow(mel_spec_db, sr=sr, x_axis='time', y_axis='mel', cmap='magma')\n",
    "plt.axis('off')  # Pas d'axes si tu veux entraîner un modèle\n",
    "plt.tight_layout(pad=0)\n",
    "plt.savefig(output_path, bbox_inches='tight', pad_inches=0)\n",
    "plt.close()\n",
    "\n",
    "print(\"Spectrogramme sauvegardé :\", output_path)\n"
   ]
  }
 ],
 "metadata": {
  "language_info": {
   "name": "python"
  }
 },
 "nbformat": 4,
 "nbformat_minor": 5
}
